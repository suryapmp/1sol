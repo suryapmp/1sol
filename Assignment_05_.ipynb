{
  "nbformat": 4,
  "nbformat_minor": 0,
  "metadata": {
    "colab": {
      "name": "Assignment 05 .ipynb",
      "provenance": [],
      "authorship_tag": "ABX9TyP68iXHEY3V+ciCBqIeVuGs",
      "include_colab_link": true
    },
    "kernelspec": {
      "name": "python3",
      "display_name": "Python 3"
    },
    "language_info": {
      "name": "python"
    }
  },
  "cells": [
    {
      "cell_type": "markdown",
      "metadata": {
        "id": "view-in-github",
        "colab_type": "text"
      },
      "source": [
        "<a href=\"https://colab.research.google.com/github/suryapmp/1sol/blob/surya/Assignment_05_.ipynb\" target=\"_parent\"><img src=\"https://colab.research.google.com/assets/colab-badge.svg\" alt=\"Open In Colab\"/></a>"
      ]
    },
    {
      "cell_type": "markdown",
      "source": [
        "FOOTBALL SOLUTION (python v 2)"
      ],
      "metadata": {
        "id": "UKOkhHumG9Bv"
      }
    },
    {
      "cell_type": "code",
      "execution_count": null,
      "metadata": {
        "id": "s1OMpklDG3nD"
      },
      "outputs": [],
      "source": [
        "class Football:\n",
        "    def solve(self,footballers):\n",
        "        if(len(footballers)<7):\n",
        "            return \"NO\"\n",
        "        \n",
        "        import re\n",
        "        match_ones = re.search(r'\\d*1111111\\d*',footballers)\n",
        "        match_zeroes = re.search(r'\\d*0000000\\d*',footballers)\n",
        "        \n",
        "        if(match_ones or match_zeroes):\n",
        "            return \"YES\"\n",
        "        else:\n",
        "            return \"NO\"\n",
        "       \n",
        "        \n",
        "        \n",
        "if __name__ == \"__main__\":\n",
        "    footballers = raw_input()\n",
        "    f = Football()\n",
        "    print f.solve(footballers)"
      ]
    },
    {
      "cell_type": "markdown",
      "source": [
        "Romaji (python v 3)"
      ],
      "metadata": {
        "id": "TB3DTRu8Hlvs"
      }
    },
    {
      "cell_type": "code",
      "source": [
        "s = input()\n",
        "v=['a','e','i','o','u']\n",
        "\n",
        "n=len(s)\n",
        "for i in range(n):\n",
        "    if s[i] in v or s[i]=='n':\n",
        "        continue\n",
        "    else:\n",
        "        if i==n-1:\n",
        "            print('NO')\n",
        "            exit(0)\n",
        "\n",
        "        else:\n",
        "            if s[i+1] not in v:\n",
        "                print('NO')\n",
        "                exit(0)\n",
        "\n",
        "print('YES')"
      ],
      "metadata": {
        "id": "wjLstCArHoRN"
      },
      "execution_count": null,
      "outputs": []
    },
    {
      "cell_type": "markdown",
      "source": [
        "Milk and palindrome (python v 3 )"
      ],
      "metadata": {
        "id": "Ek-R1FxAH-Ps"
      }
    },
    {
      "cell_type": "code",
      "source": [
        "if __name__ == \"__main__\":\n",
        "    s = input()\n",
        "    count = 0\n",
        "    possible = True\n",
        "    for i in range(int(len(s) / 2)):\n",
        "        if s[i] != s[len(s) - i - 1]:\n",
        "            count += 1\n",
        "            if count > 1:\n",
        "                possible = False\n",
        "                break\n",
        "\n",
        "    if len(s) % 2 == 1 and count == 0:\n",
        "        count += 1\n",
        "\n",
        "    if possible and count == 1:\n",
        "        print('YES')\n",
        "    else:\n",
        "        print('NO')"
      ],
      "metadata": {
        "id": "Ho6APegnIxyH"
      },
      "execution_count": null,
      "outputs": []
    },
    {
      "cell_type": "markdown",
      "source": [
        "Superhero Transformation (python 3.8)"
      ],
      "metadata": {
        "id": "Sbpc9E6UIyrr"
      }
    },
    {
      "cell_type": "code",
      "source": [
        "s=input()\n",
        "t=input()\n",
        "\n",
        "v=['a','e','i','o','u']\n",
        "\n",
        "if len(s)==len(t):\n",
        "    for i in range(len(s)):\n",
        "        if s[i] not in v and t[i] in v:\n",
        "            print('No')\n",
        "            exit(0)\n",
        "\n",
        "        elif s[i] in v and t[i] not in v:\n",
        "            print('No')\n",
        "            exit(0)\n",
        "\n",
        "    print('Yes')\n",
        "\n",
        "else:\n",
        "    print('No')"
      ],
      "metadata": {
        "id": "aCyIzPi_JRm9"
      },
      "execution_count": null,
      "outputs": []
    },
    {
      "cell_type": "markdown",
      "source": [
        " Minimizing the String"
      ],
      "metadata": {
        "id": "Ib3ASXS3Jacx"
      }
    },
    {
      "cell_type": "code",
      "source": [
        "num = int(input())\n",
        "text = input()\n",
        "i = 0\n",
        "for x in range(num-1):\n",
        "    if text[x] > text[x+1]:\n",
        "        text = text.replace(text[x],'',1)\n",
        "        break\n",
        "    i += 1\n",
        "\n",
        "if i == num-1:\n",
        "    print(text[:-1])\n",
        "else:\n",
        "    print(text)"
      ],
      "metadata": {
        "id": "nSthOa9lJbBZ"
      },
      "execution_count": null,
      "outputs": []
    }
  ]
}